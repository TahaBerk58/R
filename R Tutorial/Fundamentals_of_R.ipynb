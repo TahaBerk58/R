{
  "nbformat": 4,
  "nbformat_minor": 0,
  "metadata": {
    "colab": {
      "provenance": [],
      "authorship_tag": "ABX9TyM6FFW8cfQxXVHJUKku1Jkv",
      "include_colab_link": true
    },
    "kernelspec": {
      "name": "ir",
      "display_name": "R"
    },
    "language_info": {
      "name": "R"
    }
  },
  "cells": [
    {
      "cell_type": "markdown",
      "metadata": {
        "id": "view-in-github",
        "colab_type": "text"
      },
      "source": [
        "<a href=\"https://colab.research.google.com/github/TahaBerk58/R/blob/main/R%20Tutorial/Fundamentals_of_R.ipynb\" target=\"_parent\"><img src=\"https://colab.research.google.com/assets/colab-badge.svg\" alt=\"Open In Colab\"/></a>"
      ]
    },
    {
      "cell_type": "markdown",
      "source": [
        "# R Operators"
      ],
      "metadata": {
        "id": "r-4k-mRTyGpv"
      }
    },
    {
      "cell_type": "markdown",
      "source": [
        "### Arithmetic Operations in R\n",
        "- **Vector Definitions**: `vec1` and `vec2` are numeric vectors defined for performing arithmetic operations.\n",
        "- **Addition**: Adds the corresponding elements of two vectors using the `+` operator.\n",
        "- **Subtraction**: Subtracts the elements of the second vector from the first vector using the `-` operator.\n",
        "- **Multiplication**: Multiplies the corresponding elements of two vectors using the `*` operator.\n",
        "- **Division**: Divides the elements of the first vector by the corresponding elements of the second vector using the `/` operator.\n",
        "- **Modulo**: Computes the remainder of division for each pair of elements using the `%%` operator.\n",
        "- **Power Operator**: Raises the elements of the first vector to the power of the corresponding elements in the second vector using the `^` operator.\n",
        "- **Output**: Results of the operations are displayed using the `cat()` function for clear formatting and separation."
      ],
      "metadata": {
        "id": "7dCXf1E8CEQG"
      }
    },
    {
      "cell_type": "code",
      "source": [
        "# R program to illustrate\n",
        "# the use of Arithmetic operators\n",
        "vec1 <- c(0, 2)\n",
        "vec2 <- c(2, 3)\n",
        "\n",
        "# Performing operations on Operands\n",
        "cat (\"Addition of vectors :\", vec1 + vec2, \"\\n\")\n",
        "cat (\"Subtraction of vectors :\", vec1 - vec2, \"\\n\")\n",
        "cat (\"Multiplication of vectors :\", vec1 * vec2, \"\\n\")\n",
        "cat (\"Division of vectors :\", vec1 / vec2, \"\\n\")\n",
        "cat (\"Modulo of vectors :\", vec1 %% vec2, \"\\n\")\n",
        "cat (\"Power operator :\", vec1 ^ vec2)"
      ],
      "metadata": {
        "colab": {
          "base_uri": "https://localhost:8080/"
        },
        "id": "0rAgk7jIyIlW",
        "outputId": "8440ef91-35a1-444d-e1d7-3acb25ea9519"
      },
      "execution_count": null,
      "outputs": [
        {
          "output_type": "stream",
          "name": "stdout",
          "text": [
            "Addition of vectors : 2 5 \n",
            "Subtraction of vectors : -2 -1 \n",
            "Multiplication of vectors : 0 6 \n",
            "Division of vectors : 0 0.6666667 \n",
            "Modulo of vectors : 0 2 \n",
            "Power operator : 0 8"
          ]
        }
      ]
    },
    {
      "cell_type": "markdown",
      "source": [
        "### Element-wise Logical OR Operator (`|`) in R\n",
        "- **Operation**: The `|` operator performs an element-wise logical OR operation between two vectors. It returns `TRUE` if either of the corresponding elements in the two vectors is `TRUE`, and `FALSE` otherwise.\n",
        "- **Vectors**:\n",
        "  - `list1 <- c(TRUE, 0.1)` defines a logical vector, where `TRUE` and `0.1` are interpreted as `TRUE` and `TRUE` respectively (non-zero numbers are considered `TRUE` in logical operations).\n",
        "  - `list2 <- c(0, 4+3i)` defines a vector where `0` is considered `FALSE` and any non-zero complex number (`4+3i`) is considered `TRUE`.\n",
        "- **Output**: The result of the logical OR operation is a logical vector indicating whether each pair of corresponding elements in `list1` and `list2` evaluates to `TRUE` or not.\n",
        "\n",
        "The code will output the result of the logical OR between the two vectors element by element."
      ],
      "metadata": {
        "id": "2URPNbIzCLHU"
      }
    },
    {
      "cell_type": "code",
      "source": [
        "# Element-wise Logical OR operator (|)\n",
        "# Returns True if either of the operands is True.\n",
        "list1 <- c(TRUE, 0.1)\n",
        "list2 <- c(0,4+3i)\n",
        "print(list1|list2)"
      ],
      "metadata": {
        "colab": {
          "base_uri": "https://localhost:8080/"
        },
        "id": "AzeVI0Tqzo92",
        "outputId": "f1d85f38-18dc-4056-9ad4-a6f619283bed"
      },
      "execution_count": null,
      "outputs": [
        {
          "output_type": "stream",
          "name": "stdout",
          "text": [
            "[1] TRUE TRUE\n"
          ]
        }
      ]
    },
    {
      "cell_type": "markdown",
      "source": [
        "### Logical Operators in R\n",
        "- **Vector Definitions**:\n",
        "  - `vec1 <- c(0,2)` defines a numeric vector.\n",
        "  - `vec2 <- c(TRUE,FALSE)` defines a logical vector.\n",
        "\n",
        "- **Element-wise AND (`&`)**: The `&` operator performs a logical AND operation element by element between two vectors. It returns `TRUE` if both elements are `TRUE`, and `FALSE` otherwise.\n",
        "  \n",
        "- **Element-wise OR (`|`)**: The `|` operator performs a logical OR operation element by element between two vectors. It returns `TRUE` if at least one element is `TRUE`, and `FALSE` if both are `FALSE`.\n",
        "\n",
        "- **Logical AND (`&&`)**: The `&&` operator evaluates only the first element of each vector and returns `TRUE` if both are `TRUE`, otherwise `FALSE`. It performs the logical AND operation for single elements, not vectors.\n",
        "\n",
        "- **Logical OR (`||`)**: The `||` operator evaluates only the first element of each vector and returns `TRUE` if at least one of the elements is `TRUE`, otherwise `FALSE`. Like the logical AND, it operates on single elements.\n",
        "\n",
        "- **Negation (`!`)**: The `!` operator inverts the logical values in `vec1`. `TRUE` becomes `FALSE`, and `FALSE` becomes `TRUE`.\n",
        "\n",
        "- **Output**: Each operation's result is displayed using the `cat()` function to show the logical results clearly."
      ],
      "metadata": {
        "id": "yF4Avzb4CRyI"
      }
    },
    {
      "cell_type": "code",
      "source": [
        "# R program to illustrate\n",
        "# the use of Logical operators\n",
        "vec1 <- c(0,2)\n",
        "vec2 <- c(TRUE,FALSE)\n",
        "\n",
        "# Performing operations on Operands\n",
        "cat (\"Element wise AND :\", vec1 & vec2, \"\\n\")\n",
        "cat (\"Element wise OR :\", vec1 | vec2, \"\\n\")\n",
        "cat (\"Logical AND :\", vec1[1] && vec2[1], \"\\n\")\n",
        "cat (\"Logical OR :\", vec1[1] || vec2[1], \"\\n\")\n",
        "cat (\"Negation :\", !vec1)"
      ],
      "metadata": {
        "colab": {
          "base_uri": "https://localhost:8080/"
        },
        "id": "0_q-G9xcz1IP",
        "outputId": "629bbef2-d917-4030-bd5c-f7e6d2bb8aa9"
      },
      "execution_count": null,
      "outputs": [
        {
          "output_type": "stream",
          "name": "stdout",
          "text": [
            "Element wise AND : FALSE FALSE \n",
            "Element wise OR : TRUE TRUE \n",
            "Logical AND : FALSE \n",
            "Logical OR : TRUE \n",
            "Negation : TRUE FALSE"
          ]
        }
      ]
    },
    {
      "cell_type": "markdown",
      "source": [
        "### Relational Operators in R\n",
        "- **Vector Definitions**:\n",
        "  - `vec1 <- c(0, 2)` defines a numeric vector with two elements: 0 and 2.\n",
        "  - `vec2 <- c(2, 3)` defines another numeric vector with two elements: 2 and 3.\n",
        "\n",
        "- **Relational Operations**:\n",
        "  - **Less than (`<`)**: Compares corresponding elements in `vec1` and `vec2`. It returns `TRUE` if an element in `vec1` is less than the corresponding element in `vec2`, otherwise `FALSE`.\n",
        "  - **Less than or equal to (`<=`)**: Compares the corresponding elements and returns `TRUE` if an element in `vec1` is less than or equal to the corresponding element in `vec2`.\n",
        "  - **Greater than (`>`)**: Compares the corresponding elements and returns `TRUE` if an element in `vec1` is greater than the corresponding element in `vec2`.\n",
        "  - **Greater than or equal to (`>=`)**: Compares the corresponding elements and returns `TRUE` if an element in `vec1` is greater than or equal to the corresponding element in `vec2`.\n",
        "  - **Not equal to (`!=`)**: Compares the corresponding elements and returns `TRUE` if an element in `vec1` is not equal to the corresponding element in `vec2`.\n",
        "\n",
        "- **Output**: Each relational operation is performed and displayed using the `cat()` function to show the results clearly."
      ],
      "metadata": {
        "id": "vUW2TsJBCf9L"
      }
    },
    {
      "cell_type": "code",
      "source": [
        "# R program to illustrate\n",
        "# the use of Relational operators\n",
        "vec1 <- c(0, 2)\n",
        "vec2 <- c(2, 3)\n",
        "\n",
        "# Performing operations on Operands\n",
        "cat (\"Vector1 less than Vector2 :\", vec1 < vec2, \"\\n\")\n",
        "cat (\"Vector1 less than equal to Vector2 :\", vec1 <= vec2, \"\\n\")\n",
        "cat (\"Vector1 greater than Vector2 :\", vec1 > vec2, \"\\n\")\n",
        "cat (\"Vector1 greater than equal to Vector2 :\", vec1 >= vec2, \"\\n\")\n",
        "cat (\"Vector1 not equal to Vector2 :\", vec1 != vec2, \"\\n\")"
      ],
      "metadata": {
        "colab": {
          "base_uri": "https://localhost:8080/"
        },
        "id": "fScta6Ip0DQ9",
        "outputId": "7291f5fc-6a69-4277-c1a0-f0cf8b44c1fd"
      },
      "execution_count": null,
      "outputs": [
        {
          "output_type": "stream",
          "name": "stdout",
          "text": [
            "Vector1 less than Vector2 : TRUE TRUE \n",
            "Vector1 less than equal to Vector2 : TRUE TRUE \n",
            "Vector1 greater than Vector2 : FALSE FALSE \n",
            "Vector1 greater than equal to Vector2 : FALSE FALSE \n",
            "Vector1 not equal to Vector2 : TRUE TRUE \n"
          ]
        }
      ]
    },
    {
      "cell_type": "markdown",
      "source": [
        "### Assignment Operators in R\n",
        "\n",
        "- **Assignment Operators**:\n",
        "  - **`<-`**: This is the most common assignment operator in R. It assigns the values on the right side to the variable on the left side. For example, `vec1 <- c(2:5)` assigns the vector `c(2, 3, 4, 5)` to `vec1`.\n",
        "  \n",
        "  - **`->`**: This operator is the reverse of `<-`, meaning the value on the left is assigned to the variable on the right. For example, `c(2:5) -> vec2` assigns the vector `c(2, 3, 4, 5)` to `vec2`.\n",
        "\n",
        "  - **`<<-`**: This operator assigns a value to a variable in the global environment, even if the variable exists in a local scope (inside a function, for example). For instance, `vec3 <<- c(2:5)` assigns the vector `c(2, 3, 4, 5)` to `vec3` in the global environment.\n",
        "\n",
        "  - **`=`**: This is another assignment operator, which works similarly to `<-`. For example, `vec4 = c(2:5)` assigns the vector `c(2, 3, 4, 5)` to `vec4`.\n",
        "\n",
        "  - **`->>`**: This operator is a variant of `<<-`, used for assigning values globally in a more explicit manner. For example, `c(2:5) ->> vec5` assigns the vector `c(2, 3, 4, 5)` to `vec5` in the global environment.\n",
        "\n",
        "- **Output**:\n",
        "  - The program prints each vector using `cat()` to display the values stored in `vec1`, `vec2`, `vec3`, `vec4`, and `vec5`.\n"
      ],
      "metadata": {
        "id": "m-hXq-UEDbOK"
      }
    },
    {
      "cell_type": "code",
      "source": [
        "# R program to illustrate\n",
        "# the use of Assignment operators\n",
        "vec1 <- c(2:5)\n",
        "c(2:5) ->> vec2\n",
        "vec3 <<- c(2:5)\n",
        "vec4 = c(2:5)\n",
        "c(2:5) -> vec5\n",
        "\n",
        "# Performing operations on Operands\n",
        "cat (\"vector 1 :\", vec1, \"\\n\")\n",
        "cat(\"vector 2 :\", vec2, \"\\n\")\n",
        "cat (\"vector 3 :\", vec3, \"\\n\")\n",
        "cat(\"vector 4 :\", vec4, \"\\n\")\n",
        "cat(\"vector 5 :\", vec5)"
      ],
      "metadata": {
        "colab": {
          "base_uri": "https://localhost:8080/"
        },
        "id": "80HbfkT-1Cob",
        "outputId": "a7a5cdf8-aa77-4519-fa5b-c3ca14623d4c"
      },
      "execution_count": null,
      "outputs": [
        {
          "output_type": "stream",
          "name": "stdout",
          "text": [
            "vector 1 : 2 3 4 5 \n",
            "vector 2 : 2 3 4 5 \n",
            "vector 3 : 2 3 4 5 \n",
            "vector 4 : 2 3 4 5 \n",
            "vector 5 : 2 3 4 5"
          ]
        }
      ]
    },
    {
      "cell_type": "code",
      "source": [
        "val <- 0.1\n",
        " list1 <- c(TRUE, 0.1,\"apple\")\n",
        " print (val %in% list1)"
      ],
      "metadata": {
        "colab": {
          "base_uri": "https://localhost:8080/"
        },
        "id": "PZB8Aq2_1ZAM",
        "outputId": "3750dce1-9b83-46e3-d5ed-43271296cd1c"
      },
      "execution_count": null,
      "outputs": [
        {
          "output_type": "stream",
          "name": "stdout",
          "text": [
            "[1] TRUE\n"
          ]
        }
      ]
    },
    {
      "cell_type": "code",
      "source": [
        "mat = matrix(c(1,2,3,4,5,6),nrow=2,ncol=3)\n",
        "         print (mat)\n",
        "         print( t(mat))\n",
        "         pro = mat %*% t(mat)\n",
        "         print(pro)"
      ],
      "metadata": {
        "colab": {
          "base_uri": "https://localhost:8080/"
        },
        "id": "QX07_PqC1vu1",
        "outputId": "9bc5a67d-e193-4f3a-fc62-cedb8433d3fb"
      },
      "execution_count": null,
      "outputs": [
        {
          "output_type": "stream",
          "name": "stdout",
          "text": [
            "     [,1] [,2] [,3]\n",
            "[1,]    1    3    5\n",
            "[2,]    2    4    6\n",
            "     [,1] [,2]\n",
            "[1,]    1    2\n",
            "[2,]    3    4\n",
            "[3,]    5    6\n",
            "     [,1] [,2]\n",
            "[1,]   35   44\n",
            "[2,]   44   56\n"
          ]
        }
      ]
    },
    {
      "cell_type": "code",
      "source": [
        "# R program to illustrate\n",
        "# the use of Miscellaneous operators\n",
        "mat <- matrix (1:4, nrow = 1, ncol = 4)\n",
        "print(\"Matrix elements using : \")\n",
        "print(mat)\n",
        "\n",
        "product = mat %*% t(mat)\n",
        "print(\"Product of matrices\")\n",
        "print(product,)\n",
        "cat (\"does 1 exist in prod matrix :\", \"1\" %in% product)"
      ],
      "metadata": {
        "id": "AxzOdP4a1_Sc",
        "outputId": "f87005c3-d69e-44dd-ad3c-f12679d91801",
        "colab": {
          "base_uri": "https://localhost:8080/"
        }
      },
      "execution_count": null,
      "outputs": [
        {
          "output_type": "stream",
          "name": "stdout",
          "text": [
            "[1] \"Matrix elements using : \"\n",
            "     [,1] [,2] [,3] [,4]\n",
            "[1,]    1    2    3    4\n",
            "[1] \"Product of matrices\"\n",
            "     [,1]\n",
            "[1,]   30\n",
            "does 1 exist in prod matrix : FALSE"
          ]
        }
      ]
    }
  ]
}